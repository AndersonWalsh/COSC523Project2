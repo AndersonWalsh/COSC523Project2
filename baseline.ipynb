{
 "cells": [
  {
   "cell_type": "code",
   "execution_count": null,
   "id": "fc5acde6",
   "metadata": {
    "_cell_guid": "b1076dfc-b9ad-4769-8c92-a6c4dae69d19",
    "_uuid": "8f2839f25d086af736a60e9eeb907d3b93b6e0e5",
    "execution": {
     "iopub.execute_input": "2024-11-13T05:33:15.404611Z",
     "iopub.status.busy": "2024-11-13T05:33:15.403813Z",
     "iopub.status.idle": "2024-11-13T05:33:53.530986Z",
     "shell.execute_reply": "2024-11-13T05:33:53.529829Z"
    },
    "papermill": {
     "duration": 38.1382,
     "end_time": "2024-11-13T05:33:53.533465",
     "exception": false,
     "start_time": "2024-11-13T05:33:15.395265",
     "status": "completed"
    },
    "tags": []
   },
   "outputs": [],
   "source": [
    "!pip install keras-core --upgrade\n",
    "!pip install -q keras-nlp --upgrade\n",
    "!pip install keras-nlp==0.6.1\n",
    "\n",
    "# This sample uses Keras Core, the multi-backend version of Keras.\n",
    "# The selected backend is TensorFlow (other supported backends are 'jax' and 'torch')\n",
    "import os\n",
    "os.environ['KERAS_BACKEND'] = 'tensorflow'"
   ]
  },
  {
   "cell_type": "code",
   "execution_count": null,
   "id": "8caf7887",
   "metadata": {
    "execution": {
     "iopub.execute_input": "2024-11-13T05:33:53.551710Z",
     "iopub.status.busy": "2024-11-13T05:33:53.551351Z",
     "iopub.status.idle": "2024-11-13T05:34:03.605758Z",
     "shell.execute_reply": "2024-11-13T05:34:03.603417Z"
    },
    "papermill": {
     "duration": 10.066768,
     "end_time": "2024-11-13T05:34:03.608786",
     "exception": false,
     "start_time": "2024-11-13T05:33:53.542018",
     "status": "completed"
    },
    "tags": []
   },
   "outputs": [],
   "source": [
    "import numpy as np # linear algebra\n",
    "import pandas as pd # data processing, CSV file I/O (e.g. pd.read_csv)\n",
    "import tensorflow as tf\n",
    "import keras_core as keras\n",
    "import keras_nlp\n",
    "from sklearn.metrics import ConfusionMatrixDisplay, confusion_matrix\n",
    "import seaborn as sns\n",
    "import matplotlib.pyplot as plt\n",
    "\n",
    "print(\"TensorFlow version:\", tf.__version__)\n",
    "print(\"KerasNLP version:\", keras_nlp.__version__)"
   ]
  },
  {
   "cell_type": "markdown",
   "id": "864b4b61",
   "metadata": {
    "papermill": {
     "duration": 0.010745,
     "end_time": "2024-11-13T05:34:03.632628",
     "exception": false,
     "start_time": "2024-11-13T05:34:03.621883",
     "status": "completed"
    },
    "tags": []
   },
   "source": [
    "# Load the Disaster Tweets\n",
    "Let's have a look at the train and test dataset.\n",
    "\n",
    "They contain:\n",
    "- id\n",
    "- keyword: A keyword from that tweet (although this may be blank!)\n",
    "- location: The location the tweet was sent from (may also be blank)\n",
    "- text: The text of a tweet\n",
    "- target: 1 if the tweet is a real disaster or 0 if not"
   ]
  },
  {
   "cell_type": "code",
   "execution_count": null,
   "id": "76dfa8db",
   "metadata": {
    "execution": {
     "iopub.execute_input": "2024-11-13T05:34:03.654455Z",
     "iopub.status.busy": "2024-11-13T05:34:03.653825Z",
     "iopub.status.idle": "2024-11-13T05:34:03.734560Z",
     "shell.execute_reply": "2024-11-13T05:34:03.733430Z"
    },
    "papermill": {
     "duration": 0.094075,
     "end_time": "2024-11-13T05:34:03.738272",
     "exception": false,
     "start_time": "2024-11-13T05:34:03.644197",
     "status": "completed"
    },
    "tags": []
   },
   "outputs": [],
   "source": [
    "df_train = pd.read_csv(\"/kaggle/input/nlp-getting-started/train.csv\")\n",
    "df_test = pd.read_csv(\"/kaggle/input/nlp-getting-started/test.csv\")\n",
    "\n",
    "print('Training Set Shape = {}'.format(df_train.shape))\n",
    "print('Training Set Memory Usage = {:.2f} MB'.format(df_train.memory_usage().sum() / 1024**2))\n",
    "print('Test Set Shape = {}'.format(df_test.shape))\n",
    "print('Test Set Memory Usage = {:.2f} MB'.format(df_test.memory_usage().sum() / 1024**2))"
   ]
  },
  {
   "cell_type": "code",
   "execution_count": null,
   "id": "9c1914c2",
   "metadata": {
    "execution": {
     "iopub.execute_input": "2024-11-13T05:34:03.762044Z",
     "iopub.status.busy": "2024-11-13T05:34:03.761751Z",
     "iopub.status.idle": "2024-11-13T05:34:03.780527Z",
     "shell.execute_reply": "2024-11-13T05:34:03.779299Z"
    },
    "papermill": {
     "duration": 0.032189,
     "end_time": "2024-11-13T05:34:03.783339",
     "exception": false,
     "start_time": "2024-11-13T05:34:03.751150",
     "status": "completed"
    },
    "tags": []
   },
   "outputs": [],
   "source": [
    "df_train.head()"
   ]
  },
  {
   "cell_type": "code",
   "execution_count": null,
   "id": "1fa68244",
   "metadata": {
    "execution": {
     "iopub.execute_input": "2024-11-13T05:34:03.803523Z",
     "iopub.status.busy": "2024-11-13T05:34:03.803221Z",
     "iopub.status.idle": "2024-11-13T05:34:03.812914Z",
     "shell.execute_reply": "2024-11-13T05:34:03.812031Z"
    },
    "papermill": {
     "duration": 0.021578,
     "end_time": "2024-11-13T05:34:03.814960",
     "exception": false,
     "start_time": "2024-11-13T05:34:03.793382",
     "status": "completed"
    },
    "tags": []
   },
   "outputs": [],
   "source": [
    "df_test.head()"
   ]
  },
  {
   "cell_type": "markdown",
   "id": "be8a51e3",
   "metadata": {
    "papermill": {
     "duration": 0.008817,
     "end_time": "2024-11-13T05:34:03.833651",
     "exception": false,
     "start_time": "2024-11-13T05:34:03.824834",
     "status": "completed"
    },
    "tags": []
   },
   "source": [
    "# Explore the dataset"
   ]
  },
  {
   "cell_type": "code",
   "execution_count": null,
   "id": "a26b6cc2",
   "metadata": {
    "execution": {
     "iopub.execute_input": "2024-11-13T05:34:03.852650Z",
     "iopub.status.busy": "2024-11-13T05:34:03.852335Z",
     "iopub.status.idle": "2024-11-13T05:34:03.875526Z",
     "shell.execute_reply": "2024-11-13T05:34:03.874436Z"
    },
    "papermill": {
     "duration": 0.035073,
     "end_time": "2024-11-13T05:34:03.877621",
     "exception": false,
     "start_time": "2024-11-13T05:34:03.842548",
     "status": "completed"
    },
    "tags": []
   },
   "outputs": [],
   "source": [
    "df_train[\"length\"] = df_train[\"text\"].apply(lambda x : len(x))\n",
    "df_test[\"length\"] = df_test[\"text\"].apply(lambda x : len(x))\n",
    "\n",
    "print(\"Train Length Stat\")\n",
    "print(df_train[\"length\"].describe())\n",
    "print()\n",
    "\n",
    "print(\"Test Length Stat\")\n",
    "print(df_test[\"length\"].describe())"
   ]
  },
  {
   "cell_type": "markdown",
   "id": "1ff4fe18",
   "metadata": {
    "papermill": {
     "duration": 0.00883,
     "end_time": "2024-11-13T05:34:03.895626",
     "exception": false,
     "start_time": "2024-11-13T05:34:03.886796",
     "status": "completed"
    },
    "tags": []
   },
   "source": [
    "If you want to know more information about the data, you can grab useful information [here](https://www.kaggle.com/code/gunesevitan/nlp-with-disaster-tweets-eda-cleaning-and-bert)\n",
    "\n",
    "Note that all the tweets are in english."
   ]
  },
  {
   "cell_type": "markdown",
   "id": "1b0496cd",
   "metadata": {
    "papermill": {
     "duration": 0.008708,
     "end_time": "2024-11-13T05:34:03.913304",
     "exception": false,
     "start_time": "2024-11-13T05:34:03.904596",
     "status": "completed"
    },
    "tags": []
   },
   "source": [
    "# Preprocess the data"
   ]
  },
  {
   "cell_type": "code",
   "execution_count": null,
   "id": "e66bda92",
   "metadata": {
    "execution": {
     "iopub.execute_input": "2024-11-13T05:34:03.932352Z",
     "iopub.status.busy": "2024-11-13T05:34:03.932060Z",
     "iopub.status.idle": "2024-11-13T05:34:03.936954Z",
     "shell.execute_reply": "2024-11-13T05:34:03.936091Z"
    },
    "papermill": {
     "duration": 0.01664,
     "end_time": "2024-11-13T05:34:03.938843",
     "exception": false,
     "start_time": "2024-11-13T05:34:03.922203",
     "status": "completed"
    },
    "tags": []
   },
   "outputs": [],
   "source": [
    "BATCH_SIZE = 32\n",
    "NUM_TRAINING_EXAMPLES = df_train.shape[0]\n",
    "TRAIN_SPLIT = 0.8\n",
    "VAL_SPLIT = 0.2\n",
    "STEPS_PER_EPOCH = int(NUM_TRAINING_EXAMPLES)*TRAIN_SPLIT // BATCH_SIZE\n",
    "\n",
    "EPOCHS = 2\n",
    "AUTO = tf.data.experimental.AUTOTUNE"
   ]
  },
  {
   "cell_type": "code",
   "execution_count": null,
   "id": "f626cdca",
   "metadata": {
    "execution": {
     "iopub.execute_input": "2024-11-13T05:34:03.958772Z",
     "iopub.status.busy": "2024-11-13T05:34:03.958161Z",
     "iopub.status.idle": "2024-11-13T05:34:03.978188Z",
     "shell.execute_reply": "2024-11-13T05:34:03.977495Z"
    },
    "papermill": {
     "duration": 0.032558,
     "end_time": "2024-11-13T05:34:03.980355",
     "exception": false,
     "start_time": "2024-11-13T05:34:03.947797",
     "status": "completed"
    },
    "tags": []
   },
   "outputs": [],
   "source": [
    "from sklearn.model_selection import train_test_split\n",
    "\n",
    "X = df_train[\"text\"]\n",
    "y = df_train[\"target\"]\n",
    "\n",
    "X_train, X_val, y_train, y_val = train_test_split(X, y, test_size=VAL_SPLIT, random_state=42)\n",
    "\n",
    "X_test = df_test[\"text\"]"
   ]
  },
  {
   "cell_type": "markdown",
   "id": "fdd0f50f",
   "metadata": {
    "papermill": {
     "duration": 0.00874,
     "end_time": "2024-11-13T05:34:03.998687",
     "exception": false,
     "start_time": "2024-11-13T05:34:03.989947",
     "status": "completed"
    },
    "tags": []
   },
   "source": [
    "# Load a DistilBERT model from Keras NLP\n",
    "\n",
    "Text inputs need to be transformed to numeric token ids and arranged in several Tensors before being input to BERT.\n",
    "\n",
    "The BertClassifier model can be configured with a preprocessor layer, in which case it will automatically apply preprocessing to raw inputs during fit(), predict(), and evaluate(). This is done by default when creating the model with from_preset().\n",
    "\n",
    "We will choose DistilBERT model.that learns a distilled (approximate) version of BERT, retaining 97% performance but using only half the number of parameters ([paper](https://arxiv.org/abs/1910.01108)). \n",
    "\n",
    "It has 40% less parameters than bert-base-uncased, runs 60% faster while preserving over 95% of BERT’s performances as measured on the GLUE language understanding benchmark.\n",
    "\n",
    "Specifically, it doesn't have token-type embeddings, pooler and retains only half of the layers from Google's BERT."
   ]
  },
  {
   "cell_type": "code",
   "execution_count": null,
   "id": "c7114bb2",
   "metadata": {
    "execution": {
     "iopub.execute_input": "2024-11-13T05:34:04.018404Z",
     "iopub.status.busy": "2024-11-13T05:34:04.017629Z",
     "iopub.status.idle": "2024-11-13T05:34:18.057217Z",
     "shell.execute_reply": "2024-11-13T05:34:18.056365Z"
    },
    "papermill": {
     "duration": 14.051625,
     "end_time": "2024-11-13T05:34:18.059194",
     "exception": false,
     "start_time": "2024-11-13T05:34:04.007569",
     "status": "completed"
    },
    "tags": []
   },
   "outputs": [],
   "source": [
    "# Load a DistilBERT model.\n",
    "preset= \"distil_bert_base_en_uncased\"\n",
    "\n",
    "# Use a shorter sequence length.\n",
    "preprocessor = keras_nlp.models.DistilBertPreprocessor.from_preset(preset,\n",
    "                                                                   sequence_length=160,\n",
    "                                                                   name=\"preprocessor_4_tweets\"\n",
    "                                                                  )\n",
    "\n",
    "# Pretrained classifier.\n",
    "classifier = keras_nlp.models.DistilBertClassifier.from_preset(preset,\n",
    "                                                               preprocessor = preprocessor, \n",
    "                                                               num_classes=2)\n",
    "\n",
    "classifier.summary()"
   ]
  },
  {
   "cell_type": "markdown",
   "id": "f27036c2",
   "metadata": {
    "papermill": {
     "duration": 0.022487,
     "end_time": "2024-11-13T05:34:18.103660",
     "exception": false,
     "start_time": "2024-11-13T05:34:18.081173",
     "status": "completed"
    },
    "tags": []
   },
   "source": [
    "# Train your own model, fine-tuning BERT"
   ]
  },
  {
   "cell_type": "code",
   "execution_count": null,
   "id": "e5090596",
   "metadata": {
    "execution": {
     "iopub.execute_input": "2024-11-13T05:34:18.148583Z",
     "iopub.status.busy": "2024-11-13T05:34:18.147875Z",
     "iopub.status.idle": "2024-11-13T05:37:22.589228Z",
     "shell.execute_reply": "2024-11-13T05:37:22.588406Z"
    },
    "papermill": {
     "duration": 184.467331,
     "end_time": "2024-11-13T05:37:22.592729",
     "exception": false,
     "start_time": "2024-11-13T05:34:18.125398",
     "status": "completed"
    },
    "tags": []
   },
   "outputs": [],
   "source": [
    "# Compile\n",
    "classifier.compile(\n",
    "    loss=keras.losses.SparseCategoricalCrossentropy(from_logits=True), #'binary_crossentropy',\n",
    "    optimizer=keras.optimizers.Adam(1e-5),\n",
    "    metrics= [\"accuracy\"]  \n",
    ")\n",
    "\n",
    "# Fit\n",
    "history = classifier.fit(x=X_train,\n",
    "                         y=y_train,\n",
    "                         batch_size=BATCH_SIZE,\n",
    "                         epochs=EPOCHS, \n",
    "                         validation_data=(X_val, y_val)\n",
    "                        )"
   ]
  },
  {
   "cell_type": "code",
   "execution_count": null,
   "id": "9ae3cfac",
   "metadata": {
    "execution": {
     "iopub.execute_input": "2024-11-13T05:37:22.695810Z",
     "iopub.status.busy": "2024-11-13T05:37:22.695448Z",
     "iopub.status.idle": "2024-11-13T05:37:22.703026Z",
     "shell.execute_reply": "2024-11-13T05:37:22.702130Z"
    },
    "papermill": {
     "duration": 0.061611,
     "end_time": "2024-11-13T05:37:22.705106",
     "exception": false,
     "start_time": "2024-11-13T05:37:22.643495",
     "status": "completed"
    },
    "tags": []
   },
   "outputs": [],
   "source": [
    "def displayConfusionMatrix(y_true, y_pred, dataset):\n",
    "    disp = ConfusionMatrixDisplay.from_predictions(\n",
    "        y_true,\n",
    "        np.argmax(y_pred, axis=1),\n",
    "        display_labels=[\"Not Disaster\",\"Disaster\"],\n",
    "        cmap=plt.cm.Blues\n",
    "    )\n",
    "\n",
    "    tn, fp, fn, tp = confusion_matrix(y_true, np.argmax(y_pred, axis=1)).ravel()\n",
    "    f1_score = tp / (tp+((fn+fp)/2))\n",
    "\n",
    "    disp.ax_.set_title(\"Confusion Matrix on \" + dataset + \" Dataset -- F1 Score: \" + str(f1_score.round(2)))\n"
   ]
  },
  {
   "cell_type": "code",
   "execution_count": null,
   "id": "c2d38b35",
   "metadata": {
    "execution": {
     "iopub.execute_input": "2024-11-13T05:37:22.808443Z",
     "iopub.status.busy": "2024-11-13T05:37:22.807352Z",
     "iopub.status.idle": "2024-11-13T05:37:44.285619Z",
     "shell.execute_reply": "2024-11-13T05:37:44.284725Z"
    },
    "papermill": {
     "duration": 21.531711,
     "end_time": "2024-11-13T05:37:44.287623",
     "exception": false,
     "start_time": "2024-11-13T05:37:22.755912",
     "status": "completed"
    },
    "tags": []
   },
   "outputs": [],
   "source": [
    "y_pred_train = classifier.predict(X_train)\n",
    "\n",
    "displayConfusionMatrix(y_train, y_pred_train, \"Training\")"
   ]
  },
  {
   "cell_type": "code",
   "execution_count": null,
   "id": "5ae6e05d",
   "metadata": {
    "execution": {
     "iopub.execute_input": "2024-11-13T05:37:44.423013Z",
     "iopub.status.busy": "2024-11-13T05:37:44.422620Z",
     "iopub.status.idle": "2024-11-13T05:37:52.031341Z",
     "shell.execute_reply": "2024-11-13T05:37:52.030431Z"
    },
    "papermill": {
     "duration": 7.678474,
     "end_time": "2024-11-13T05:37:52.033504",
     "exception": false,
     "start_time": "2024-11-13T05:37:44.355030",
     "status": "completed"
    },
    "tags": []
   },
   "outputs": [],
   "source": [
    "y_pred_val = classifier.predict(X_val)\n",
    "\n",
    "displayConfusionMatrix(y_val, y_pred_val, \"Validation\")"
   ]
  },
  {
   "cell_type": "markdown",
   "id": "d6b43d22",
   "metadata": {
    "papermill": {
     "duration": 0.068542,
     "end_time": "2024-11-13T05:37:52.172087",
     "exception": false,
     "start_time": "2024-11-13T05:37:52.103545",
     "status": "completed"
    },
    "tags": []
   },
   "source": [
    "# Generate the submission file \n",
    "\n",
    "For each tweets in the test set, we predict if the given tweet is about a real disaster or not. If so, predict a 1. If not, predict a 0.\n",
    "\n",
    "The `submission.csv` file uses the following format:\n",
    "`id,target`"
   ]
  },
  {
   "cell_type": "code",
   "execution_count": null,
   "id": "503c750d",
   "metadata": {
    "execution": {
     "iopub.execute_input": "2024-11-13T05:37:52.313204Z",
     "iopub.status.busy": "2024-11-13T05:37:52.312289Z",
     "iopub.status.idle": "2024-11-13T05:37:52.331553Z",
     "shell.execute_reply": "2024-11-13T05:37:52.330613Z"
    },
    "papermill": {
     "duration": 0.092225,
     "end_time": "2024-11-13T05:37:52.333539",
     "exception": false,
     "start_time": "2024-11-13T05:37:52.241314",
     "status": "completed"
    },
    "tags": []
   },
   "outputs": [],
   "source": [
    "sample_submission = pd.read_csv(\"/kaggle/input/nlp-getting-started/sample_submission.csv\")\n",
    "sample_submission.head()"
   ]
  },
  {
   "cell_type": "code",
   "execution_count": null,
   "id": "83ad628a",
   "metadata": {
    "execution": {
     "iopub.execute_input": "2024-11-13T05:37:52.479205Z",
     "iopub.status.busy": "2024-11-13T05:37:52.478845Z",
     "iopub.status.idle": "2024-11-13T05:38:04.739559Z",
     "shell.execute_reply": "2024-11-13T05:38:04.738636Z"
    },
    "papermill": {
     "duration": 12.336784,
     "end_time": "2024-11-13T05:38:04.741710",
     "exception": false,
     "start_time": "2024-11-13T05:37:52.404926",
     "status": "completed"
    },
    "tags": []
   },
   "outputs": [],
   "source": [
    "sample_submission[\"target\"] = np.argmax(classifier.predict(X_test), axis=1)"
   ]
  },
  {
   "cell_type": "code",
   "execution_count": null,
   "id": "9d6c821a",
   "metadata": {
    "execution": {
     "iopub.execute_input": "2024-11-13T05:38:04.898578Z",
     "iopub.status.busy": "2024-11-13T05:38:04.898211Z",
     "iopub.status.idle": "2024-11-13T05:38:04.914365Z",
     "shell.execute_reply": "2024-11-13T05:38:04.913510Z"
    },
    "papermill": {
     "duration": 0.095998,
     "end_time": "2024-11-13T05:38:04.916268",
     "exception": false,
     "start_time": "2024-11-13T05:38:04.820270",
     "status": "completed"
    },
    "tags": []
   },
   "outputs": [],
   "source": [
    "sample_submission.describe()"
   ]
  },
  {
   "cell_type": "code",
   "execution_count": null,
   "id": "2249a601",
   "metadata": {
    "execution": {
     "iopub.execute_input": "2024-11-13T05:38:05.074247Z",
     "iopub.status.busy": "2024-11-13T05:38:05.073608Z",
     "iopub.status.idle": "2024-11-13T05:38:05.087012Z",
     "shell.execute_reply": "2024-11-13T05:38:05.086132Z"
    },
    "papermill": {
     "duration": 0.094904,
     "end_time": "2024-11-13T05:38:05.088982",
     "exception": false,
     "start_time": "2024-11-13T05:38:04.994078",
     "status": "completed"
    },
    "tags": []
   },
   "outputs": [],
   "source": [
    "sample_submission.to_csv(\"submission.csv\", index=False)"
   ]
  }
 ],
 "metadata": {
  "kaggle": {
   "accelerator": "gpu",
   "dataSources": [
    {
     "databundleVersionId": 869809,
     "sourceId": 17777,
     "sourceType": "competition"
    }
   ],
   "dockerImageVersionId": 30528,
   "isGpuEnabled": true,
   "isInternetEnabled": true,
   "language": "python",
   "sourceType": "notebook"
  },
  "kernelspec": {
   "display_name": "Python 3",
   "language": "python",
   "name": "python3"
  },
  "language_info": {
   "codemirror_mode": {
    "name": "ipython",
    "version": 3
   },
   "file_extension": ".py",
   "mimetype": "text/x-python",
   "name": "python",
   "nbconvert_exporter": "python",
   "pygments_lexer": "ipython3",
   "version": "3.10.12"
  },
  "papermill": {
   "default_parameters": {},
   "duration": 302.846943,
   "end_time": "2024-11-13T05:38:08.372845",
   "environment_variables": {},
   "exception": null,
   "input_path": "__notebook__.ipynb",
   "output_path": "__notebook__.ipynb",
   "parameters": {},
   "start_time": "2024-11-13T05:33:05.525902",
   "version": "2.4.0"
  }
 },
 "nbformat": 4,
 "nbformat_minor": 5
}
